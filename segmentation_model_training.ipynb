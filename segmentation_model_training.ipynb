{
 "cells": [
  {
   "cell_type": "markdown",
   "id": "16560f62",
   "metadata": {},
   "source": [
    "# Modèle de segmentation : Entrainement d'un modèle avec U-NET"
   ]
  },
  {
   "cell_type": "markdown",
   "id": "0c42afc3",
   "metadata": {},
   "source": [
    "## Connexion GPU"
   ]
  },
  {
   "cell_type": "code",
   "execution_count": 140,
   "id": "1939cff5",
   "metadata": {},
   "outputs": [],
   "source": [
    "import tensorflow as tf\n",
    "import os"
   ]
  },
  {
   "cell_type": "code",
   "execution_count": 141,
   "id": "c4609484",
   "metadata": {},
   "outputs": [],
   "source": [
    "import tensorflow as tf\n",
    "\n",
    "#This code helps if you are using GPU, else you can comment it.\n",
    "\n",
    "#os.environ[\"CUDA_DEVICE_ORDER\"]=\"PCI_BUS_ID\"  \n",
    "os.environ[\"CUDA_VISIBLE_DEVICES\"]=\"0\"\n",
    "gpus = tf.config.list_physical_devices('GPU')\n",
    "if gpus:\n",
    "    for gpu in gpus:\n",
    "        tf.config.experimental.set_memory_growth(gpu, True)\n",
    "#config = tf.compat.v1.ConfigProto()\n",
    "#config.gpu_options.allow_growth=True\n",
    "#sess = tf.compat.v1.Session(config=config)\n"
   ]
  },
  {
   "cell_type": "markdown",
   "id": "e9e5fba9",
   "metadata": {},
   "source": [
    "## Importation des librairies"
   ]
  },
  {
   "cell_type": "markdown",
   "id": "c9f69f18",
   "metadata": {},
   "source": [
    "Installation de librairies manquantes"
   ]
  },
  {
   "cell_type": "code",
   "execution_count": 11,
   "id": "f719fb25",
   "metadata": {
    "scrolled": true
   },
   "outputs": [
    {
     "name": "stdout",
     "output_type": "stream",
     "text": [
      "Looking in indexes: https://pypi.org/simple, https://pypi.ngc.nvidia.com\n",
      "Requirement already satisfied: h5py==2.10 in c:\\users\\user\\anaconda3\\lib\\site-packages (2.10.0)\n",
      "Requirement already satisfied: six in c:\\users\\user\\anaconda3\\lib\\site-packages (from h5py==2.10) (1.16.0)\n",
      "Requirement already satisfied: numpy>=1.7 in c:\\users\\user\\anaconda3\\lib\\site-packages (from h5py==2.10) (1.20.3)\n",
      "Looking in indexes: https://pypi.org/simple, https://pypi.ngc.nvidia.com\n",
      "Requirement already satisfied: segmentation_models in c:\\users\\user\\anaconda3\\lib\\site-packages (1.0.1)\n",
      "Requirement already satisfied: keras-applications<=1.0.8,>=1.0.7 in c:\\users\\user\\anaconda3\\lib\\site-packages (from segmentation_models) (1.0.8)\n",
      "Requirement already satisfied: image-classifiers==1.0.0 in c:\\users\\user\\anaconda3\\lib\\site-packages (from segmentation_models) (1.0.0)\n",
      "Requirement already satisfied: efficientnet==1.0.0 in c:\\users\\user\\anaconda3\\lib\\site-packages (from segmentation_models) (1.0.0)\n",
      "Requirement already satisfied: scikit-image in c:\\users\\user\\anaconda3\\lib\\site-packages (from efficientnet==1.0.0->segmentation_models) (0.18.1)\n",
      "Requirement already satisfied: h5py in c:\\users\\user\\anaconda3\\lib\\site-packages (from keras-applications<=1.0.8,>=1.0.7->segmentation_models) (2.10.0)\n",
      "Requirement already satisfied: numpy>=1.9.1 in c:\\users\\user\\anaconda3\\lib\\site-packages (from keras-applications<=1.0.8,>=1.0.7->segmentation_models) (1.20.3)\n",
      "Requirement already satisfied: six in c:\\users\\user\\anaconda3\\lib\\site-packages (from h5py->keras-applications<=1.0.8,>=1.0.7->segmentation_models) (1.16.0)\n",
      "Requirement already satisfied: scipy>=1.0.1 in c:\\users\\user\\anaconda3\\lib\\site-packages (from scikit-image->efficientnet==1.0.0->segmentation_models) (1.6.2)\n",
      "Requirement already satisfied: matplotlib!=3.0.0,>=2.0.0 in c:\\users\\user\\anaconda3\\lib\\site-packages (from scikit-image->efficientnet==1.0.0->segmentation_models) (3.3.4)\n",
      "Requirement already satisfied: networkx>=2.0 in c:\\users\\user\\anaconda3\\lib\\site-packages (from scikit-image->efficientnet==1.0.0->segmentation_models) (2.6.1)\n",
      "Requirement already satisfied: pillow!=7.1.0,!=7.1.1,>=4.3.0 in c:\\users\\user\\anaconda3\\lib\\site-packages (from scikit-image->efficientnet==1.0.0->segmentation_models) (8.3.1)\n",
      "Requirement already satisfied: imageio>=2.3.0 in c:\\users\\user\\anaconda3\\lib\\site-packages (from scikit-image->efficientnet==1.0.0->segmentation_models) (2.9.0)\n",
      "Requirement already satisfied: tifffile>=2019.7.26 in c:\\users\\user\\anaconda3\\lib\\site-packages (from scikit-image->efficientnet==1.0.0->segmentation_models) (2021.4.8)\n",
      "Requirement already satisfied: PyWavelets>=1.1.1 in c:\\users\\user\\anaconda3\\lib\\site-packages (from scikit-image->efficientnet==1.0.0->segmentation_models) (1.1.1)\n",
      "Requirement already satisfied: python-dateutil>=2.1 in c:\\users\\user\\anaconda3\\lib\\site-packages (from matplotlib!=3.0.0,>=2.0.0->scikit-image->efficientnet==1.0.0->segmentation_models) (2.8.2)\n",
      "Requirement already satisfied: pyparsing!=2.0.4,!=2.1.2,!=2.1.6,>=2.0.3 in c:\\users\\user\\anaconda3\\lib\\site-packages (from matplotlib!=3.0.0,>=2.0.0->scikit-image->efficientnet==1.0.0->segmentation_models) (2.4.7)\n",
      "Requirement already satisfied: kiwisolver>=1.0.1 in c:\\users\\user\\anaconda3\\lib\\site-packages (from matplotlib!=3.0.0,>=2.0.0->scikit-image->efficientnet==1.0.0->segmentation_models) (1.3.1)\n",
      "Requirement already satisfied: cycler>=0.10 in c:\\users\\user\\anaconda3\\lib\\site-packages (from matplotlib!=3.0.0,>=2.0.0->scikit-image->efficientnet==1.0.0->segmentation_models) (0.10.0)\n",
      "Requirement already satisfied: pandas>=1.1 in c:\\users\\user\\anaconda3\\lib\\site-packages (from networkx>=2.0->scikit-image->efficientnet==1.0.0->segmentation_models) (1.2.5)\n",
      "Requirement already satisfied: pytz>=2017.3 in c:\\users\\user\\anaconda3\\lib\\site-packages (from pandas>=1.1->networkx>=2.0->scikit-image->efficientnet==1.0.0->segmentation_models) (2021.1)\n",
      "Looking in indexes: https://pypi.org/simple, https://pypi.ngc.nvidia.com\n",
      "Requirement already satisfied: imshowpair in c:\\users\\user\\anaconda3\\lib\\site-packages (0.1.0)\n",
      "Requirement already satisfied: matplotlib>=2.0.0 in c:\\users\\user\\anaconda3\\lib\\site-packages (from imshowpair) (3.3.4)\n",
      "Requirement already satisfied: pillow>=6.2.0 in c:\\users\\user\\anaconda3\\lib\\site-packages (from matplotlib>=2.0.0->imshowpair) (8.3.1)\n",
      "Requirement already satisfied: cycler>=0.10 in c:\\users\\user\\anaconda3\\lib\\site-packages (from matplotlib>=2.0.0->imshowpair) (0.10.0)\n",
      "Requirement already satisfied: kiwisolver>=1.0.1 in c:\\users\\user\\anaconda3\\lib\\site-packages (from matplotlib>=2.0.0->imshowpair) (1.3.1)\n",
      "Requirement already satisfied: python-dateutil>=2.1 in c:\\users\\user\\anaconda3\\lib\\site-packages (from matplotlib>=2.0.0->imshowpair) (2.8.2)\n",
      "Requirement already satisfied: numpy>=1.15 in c:\\users\\user\\anaconda3\\lib\\site-packages (from matplotlib>=2.0.0->imshowpair) (1.20.3)\n",
      "Requirement already satisfied: pyparsing!=2.0.4,!=2.1.2,!=2.1.6,>=2.0.3 in c:\\users\\user\\anaconda3\\lib\\site-packages (from matplotlib>=2.0.0->imshowpair) (2.4.7)\n",
      "Requirement already satisfied: six in c:\\users\\user\\anaconda3\\lib\\site-packages (from cycler>=0.10->matplotlib>=2.0.0->imshowpair) (1.16.0)\n"
     ]
    }
   ],
   "source": [
    "!pip install h5py==2.10\n",
    "!pip install segmentation_models\n",
    "!pip install imshowpair"
   ]
  },
  {
   "cell_type": "markdown",
   "id": "ec0ece92",
   "metadata": {},
   "source": [
    "Importation des librairies"
   ]
  },
  {
   "cell_type": "code",
   "execution_count": 142,
   "id": "48f3037f",
   "metadata": {},
   "outputs": [],
   "source": [
    "import os\n",
    "import sys\n",
    "import random\n",
    "import warnings\n",
    "\n",
    "import numpy as np\n",
    "import imageio\n",
    "import cv2\n",
    "import matplotlib.pyplot as plt\n",
    "\n",
    "\n",
    "from tqdm import tqdm\n",
    "from itertools import chain\n",
    "from skimage.io import imread, imshow, imread_collection, concatenate_images\n",
    "from skimage.transform import resize\n",
    "from skimage.morphology import label\n",
    "from skimage.color import rgb2gray\n",
    "from skimage.filters import threshold_otsu\n",
    "\n",
    "from tensorflow.keras.models import Model, load_model\n",
    "from tensorflow.keras.layers import Input, Conv2D, Conv2DTranspose, MaxPooling2D, concatenate\n",
    "from tensorflow.keras.layers import BatchNormalization, Activation, Dense, Dropout, experimental\n",
    "from tensorflow.keras.callbacks import EarlyStopping, ModelCheckpoint\n",
    "from tensorflow.keras import backend as K\n",
    "from tensorflow.keras.optimizers import Adam\n",
    "from tensorflow.keras import Sequential\n",
    "from tensorflow.keras.preprocessing.image import ImageDataGenerator\n",
    "\n",
    "from albumentations import Resize,PadIfNeeded\n",
    "\n",
    "from albumentations import (VerticalFlip, HorizontalFlip, Flip, RandomScale, RandomRotate90, ShiftScaleRotate, CenterCrop, OpticalDistortion,                              \n",
    "                            ElasticTransform, JpegCompression, HueSaturationValue, GridDistortion,\n",
    "                            RGBShift, RandomBrightness, RandomContrast, Blur, MotionBlur, MedianBlur, GaussNoise, CLAHE, ChannelShuffle,\n",
    "                            InvertImg, RandomGamma, ToGray, PadIfNeeded, RandomCrop, Compose, Transpose, RandomSizedCrop, OneOf, Normalize,PadIfNeeded,Resize)\n",
    "\n",
    "import tensorflow as tf\n",
    "import imshowpair\n",
    "from PIL import Image\n",
    "from collections import Counter\n",
    "from focal_loss import BinaryFocalLoss"
   ]
  },
  {
   "cell_type": "markdown",
   "id": "f3ca8e01",
   "metadata": {},
   "source": [
    "## Algorithme"
   ]
  },
  {
   "cell_type": "markdown",
   "id": "88f04fd7",
   "metadata": {},
   "source": [
    "### Input"
   ]
  },
  {
   "cell_type": "code",
   "execution_count": 198,
   "id": "c7365d2d",
   "metadata": {},
   "outputs": [],
   "source": [
    "image_sample = os.listdir(\"./input\")"
   ]
  },
  {
   "cell_type": "code",
   "execution_count": 199,
   "id": "86e2dc15",
   "metadata": {},
   "outputs": [],
   "source": [
    "import zipfile\n",
    "archive = zipfile.ZipFile('./input/raw_data.zip', 'r')"
   ]
  },
  {
   "cell_type": "code",
   "execution_count": 200,
   "id": "45a0d5a8",
   "metadata": {},
   "outputs": [],
   "source": [
    "def fabriquer_train(archive):\n",
    "    dico = {}\n",
    "    for i in archive.namelist():\n",
    "        i_temp = i.split(\"/\")\n",
    "        if i_temp[-1]!='':\n",
    "            if i_temp[1]=='images':\n",
    "                imgfile = archive.open(i)\n",
    "                img = Image.open(imgfile)\n",
    "                dico[i_temp[-1]]=np.array(img)\n",
    "    return dico\n",
    "\n",
    "def fabriquer_test(archive):\n",
    "    dico = {}\n",
    "    for i in archive.namelist():\n",
    "        i_temp = i.split(\"/\")\n",
    "        if i_temp[-1]!='':\n",
    "            if i_temp[1]=='masks':\n",
    "                imgfile = archive.open(i)\n",
    "                img = Image.open(imgfile)\n",
    "                dico[i_temp[-1]]=np.array(img)\n",
    "    return dico"
   ]
  },
  {
   "cell_type": "code",
   "execution_count": 201,
   "id": "f94dd1cf",
   "metadata": {
    "scrolled": true
   },
   "outputs": [
    {
     "name": "stdout",
     "output_type": "stream",
     "text": [
      "Input done\n"
     ]
    }
   ],
   "source": [
    "image_ = fabriquer_train(archive)\n",
    "masks_ = fabriquer_test(archive)\n",
    "print(\"Input done\")"
   ]
  },
  {
   "cell_type": "code",
   "execution_count": 202,
   "id": "8a6136ff",
   "metadata": {},
   "outputs": [],
   "source": [
    "image_name = list(image_.keys())\n",
    "masks_name = list(masks_.keys())"
   ]
  },
  {
   "cell_type": "markdown",
   "id": "24003055",
   "metadata": {},
   "source": [
    "### Echantillon train, test et validation"
   ]
  },
  {
   "cell_type": "markdown",
   "id": "8acde7fe",
   "metadata": {},
   "source": [
    "##### Echantillon train et test"
   ]
  },
  {
   "cell_type": "code",
   "execution_count": 203,
   "id": "a2ba074c",
   "metadata": {},
   "outputs": [],
   "source": [
    "from sklearn.model_selection import train_test_split\n",
    "X_train, X_test_, Y_train, Y_test_ = train_test_split(image_name, masks_name, test_size=0.2, random_state=42)"
   ]
  },
  {
   "cell_type": "markdown",
   "id": "e77cc3db",
   "metadata": {},
   "source": [
    "train data :\n",
    "    \n",
    "    X_train : images\n",
    "\n",
    "    Y_train : masks\n",
    "\n",
    "test data :\n",
    "    \n",
    "    X_test : images\n",
    "    \n",
    "    Y_test : masks"
   ]
  },
  {
   "cell_type": "markdown",
   "id": "45004f44",
   "metadata": {},
   "source": [
    "##### Echantillon train et validation"
   ]
  },
  {
   "cell_type": "code",
   "execution_count": 204,
   "id": "9182a1a3",
   "metadata": {
    "scrolled": true
   },
   "outputs": [],
   "source": [
    "from sklearn.model_selection import train_test_split\n",
    "x_train_, x_val_, y_train_, y_val_ = train_test_split(X_train, Y_train, test_size=0.2, random_state=42) #text_size=0.3 (à moi, 0.2)"
   ]
  },
  {
   "cell_type": "markdown",
   "id": "a78a4813",
   "metadata": {},
   "source": [
    "train data :\n",
    "\n",
    "    X_train : images\n",
    "        \n",
    "        x_train : images\n",
    "        \n",
    "        x_val : images\n",
    "\n",
    "    Y_train : masks\n",
    "        \n",
    "        y_train : masks\n",
    "        \n",
    "        y_val : masks\n",
    "\n",
    "test data :\n",
    "\n",
    "    X_test : images\n",
    "\n",
    "    Y_test : masks"
   ]
  },
  {
   "cell_type": "markdown",
   "id": "ab294184",
   "metadata": {},
   "source": [
    "### Recherche des images"
   ]
  },
  {
   "cell_type": "code",
   "execution_count": 205,
   "id": "8e9b63c4",
   "metadata": {},
   "outputs": [],
   "source": [
    "# Set some parameters\n",
    "IMG_WIDTH = 256\n",
    "IMG_HEIGHT = 256\n",
    "IMG_CHANNELS = 3\n",
    "TRAIN_PATH = 'data/train_data/'\n",
    "TEST_PATH = 'data/test_data/'\n",
    "#TRAIN_PATH = 'data/nuclei_train_data/'\n",
    "#TEST_PATH = 'data/nuclei_val_data/'\n",
    "\n",
    "warnings.filterwarnings('ignore', category=UserWarning, module='skimage')"
   ]
  },
  {
   "cell_type": "code",
   "execution_count": 206,
   "id": "08ea8714",
   "metadata": {},
   "outputs": [],
   "source": [
    "def get_X_data(ids):\n",
    "    ids.sort()\n",
    "    X = np.zeros((len(ids), IMG_HEIGHT, IMG_WIDTH, IMG_CHANNELS), dtype=np.uint8)\n",
    "    for n, id_ in tqdm(enumerate(ids), total=len(ids)):\n",
    "        # we'll be using skimage library for reading file\n",
    "        img = image_[id_][:,:,:IMG_CHANNELS]\n",
    "        img = resize(img, (IMG_HEIGHT, IMG_WIDTH), mode='constant', preserve_range=True)\n",
    "        X[n] = img\n",
    "    return X\n",
    "\n",
    "def get_Y_data(ids):\n",
    "    ids.sort()\n",
    "    Y = np.zeros((len(ids), IMG_HEIGHT, IMG_WIDTH, 1), dtype=np.bool)\n",
    "    \n",
    "    for n, id_ in tqdm(enumerate(ids), total=len(ids)):\n",
    "        mask = np.zeros((IMG_HEIGHT, IMG_WIDTH, 1), dtype=np.bool)\n",
    "        masque_ = masks_[id_]\n",
    "        gray_file = rgb2gray(masque_)\n",
    "        threshold = threshold_otsu(gray_file)\n",
    "        binary_file = (gray_file > threshold)\n",
    "        masque_ = np.expand_dims(resize(binary_file, (IMG_HEIGHT, IMG_WIDTH), mode='constant',preserve_range=True), axis=-1)\n",
    "        Y[n] = masque_\n",
    "    return Y"
   ]
  },
  {
   "cell_type": "code",
   "execution_count": 207,
   "id": "fc87a197",
   "metadata": {},
   "outputs": [
    {
     "name": "stdout",
     "output_type": "stream",
     "text": [
      "Getting and resizing train images ... \n"
     ]
    },
    {
     "name": "stderr",
     "output_type": "stream",
     "text": [
      "100%|██████████████████████████████████████████████████████████████████████████████████| 32/32 [00:32<00:00,  1.02s/it]\n",
      "<ipython-input-206-a83f544650f2>:13: DeprecationWarning: `np.bool` is a deprecated alias for the builtin `bool`. To silence this warning, use `bool` by itself. Doing this will not modify any behavior and is safe. If you specifically wanted the numpy scalar type, use `np.bool_` here.\n",
      "Deprecated in NumPy 1.20; for more details and guidance: https://numpy.org/devdocs/release/1.20.0-notes.html#deprecations\n",
      "  Y = np.zeros((len(ids), IMG_HEIGHT, IMG_WIDTH, 1), dtype=np.bool)\n",
      "  0%|                                                                                           | 0/32 [00:00<?, ?it/s]<ipython-input-206-a83f544650f2>:16: DeprecationWarning: `np.bool` is a deprecated alias for the builtin `bool`. To silence this warning, use `bool` by itself. Doing this will not modify any behavior and is safe. If you specifically wanted the numpy scalar type, use `np.bool_` here.\n",
      "Deprecated in NumPy 1.20; for more details and guidance: https://numpy.org/devdocs/release/1.20.0-notes.html#deprecations\n",
      "  mask = np.zeros((IMG_HEIGHT, IMG_WIDTH, 1), dtype=np.bool)\n",
      "<ipython-input-206-a83f544650f2>:18: FutureWarning: Non RGB image conversion is now deprecated. For RGBA images, please use rgb2gray(rgba2rgb(rgb)) instead. In version 0.19, a ValueError will be raised if input image last dimension length is not 3.\n",
      "  gray_file = rgb2gray(masque_)\n",
      "100%|██████████████████████████████████████████████████████████████████████████████████| 32/32 [00:09<00:00,  3.33it/s]\n",
      "100%|████████████████████████████████████████████████████████████████████████████████████| 8/8 [00:08<00:00,  1.00s/it]\n",
      "100%|████████████████████████████████████████████████████████████████████████████████████| 8/8 [00:02<00:00,  3.56it/s]\n",
      "100%|██████████████████████████████████████████████████████████████████████████████████| 10/10 [00:11<00:00,  1.19s/it]\n",
      "100%|██████████████████████████████████████████████████████████████████████████████████| 10/10 [00:03<00:00,  2.97it/s]\n"
     ]
    }
   ],
   "source": [
    "print('Getting and resizing train images ... ')\n",
    "\n",
    "x_train = get_X_data(x_train_)\n",
    "y_train = get_Y_data(y_train_)\n",
    "\n",
    "x_val = get_X_data(x_val_)\n",
    "y_val = get_Y_data(y_val_)\n",
    "\n",
    "X_test = get_X_data(X_test_)\n",
    "Y_test = get_Y_data(Y_test_)"
   ]
  },
  {
   "cell_type": "code",
   "execution_count": 208,
   "id": "47341343",
   "metadata": {},
   "outputs": [],
   "source": [
    "dico1 = ['Taile X_train','Taile X_test','Taile Y_train','Taile Y_test']\n",
    "dico2 = [len(X_train),len(X_test),len(Y_train),len(Y_test)]\n",
    "\n",
    "dico3 = ['Taile x_train', 'Taile x_val','Taile y_train','Taile y_val']\n",
    "dico4 = [len(x_train),len(x_val),len(y_train),len(y_val)]"
   ]
  },
  {
   "cell_type": "markdown",
   "id": "692af793",
   "metadata": {},
   "source": [
    "### Algorithme U-NET"
   ]
  },
  {
   "cell_type": "code",
   "execution_count": 209,
   "id": "51372c2f",
   "metadata": {},
   "outputs": [],
   "source": [
    "def conv2d_block(input_tensor, n_filters, kernel_size=3):\n",
    "    # first layer\n",
    "    x = Conv2D(filters=n_filters, kernel_size=(kernel_size, kernel_size),\n",
    "               padding=\"same\")(input_tensor) # padding=\"valid\"\n",
    "    x = Activation(\"relu\")(x)\n",
    "    # second layer\n",
    "    x = Conv2D(filters=n_filters, kernel_size=(kernel_size, kernel_size), \n",
    "               padding=\"same\")(x)\n",
    "    x = Activation(\"relu\")(x)\n",
    "    return x"
   ]
  },
  {
   "cell_type": "code",
   "execution_count": 210,
   "id": "3acf5364",
   "metadata": {},
   "outputs": [],
   "source": [
    "def get_unet(input_img, n_filters,kernel_size=3):\n",
    "    # contracting path # encoder\n",
    "    c1 = conv2d_block(input_img, n_filters=n_filters*4, kernel_size=3) #The first block of U-net\n",
    "    p1 = MaxPooling2D((2, 2)) (c1)\n",
    "\n",
    "    c2 = conv2d_block(p1, n_filters=n_filters*8, kernel_size=3)\n",
    "    p2 = MaxPooling2D((2, 2)) (c2)\n",
    "\n",
    "    c3 = conv2d_block(p2, n_filters=n_filters*16, kernel_size=3)\n",
    "    p3 = MaxPooling2D((2, 2)) (c3)\n",
    "\n",
    "    c10 = conv2d_block(p3, n_filters=n_filters*16, kernel_size=3)\n",
    "    p10 = MaxPooling2D((2, 2)) (c10)\n",
    "\n",
    "    c12 = conv2d_block(p10, n_filters=n_filters*16, kernel_size=3)\n",
    "    p12 = MaxPooling2D((2, 2)) (c12)\n",
    "\n",
    "    c14 = conv2d_block(p12, n_filters=n_filters*16, kernel_size=3)\n",
    "    p14 = MaxPooling2D((2, 2)) (c14)\n",
    "\n",
    "    c4 = conv2d_block(p14, n_filters=n_filters*32, kernel_size=3)\n",
    "    p4 = MaxPooling2D(pool_size=(2, 2)) (c4)\n",
    "    \n",
    "    c5 = conv2d_block(p4, n_filters=n_filters*64, kernel_size=3) # last layer on encoding path \n",
    "    \n",
    "    # expansive path # decoder\n",
    "    u6 = Conv2DTranspose(n_filters*32, (3, 3), strides=(2, 2), padding='same') (c5) #upsampling included\n",
    "    u6 = concatenate([u6, c4])\n",
    "    c6 = conv2d_block(u6, n_filters=n_filters*32, kernel_size=3)\n",
    "\n",
    "    u15 = Conv2DTranspose(n_filters*16, (3, 3), strides=(2, 2), padding='same') (c6)\n",
    "    u15 = concatenate([u15, c14])\n",
    "    c15 = conv2d_block(u15, n_filters=n_filters*16, kernel_size=3)\n",
    "\n",
    "    u13 = Conv2DTranspose(n_filters*16, (3, 3), strides=(2, 2), padding='same') (c15)\n",
    "    u13 = concatenate([u13, c12])\n",
    "    c13 = conv2d_block(u13, n_filters=n_filters*16, kernel_size=3)\n",
    "\n",
    "    u11 = Conv2DTranspose(n_filters*16, (3, 3), strides=(2, 2), padding='same') (c13)\n",
    "    u11 = concatenate([u11, c10])\n",
    "    c11 = conv2d_block(u11, n_filters=n_filters*16, kernel_size=3)\n",
    "\n",
    "    u7 = Conv2DTranspose(n_filters*16, (3, 3), strides=(2, 2), padding='same') (c11)\n",
    "    u7 = concatenate([u7, c3])\n",
    "    c7 = conv2d_block(u7, n_filters=n_filters*16, kernel_size=3)\n",
    "\n",
    "    u8 = Conv2DTranspose(n_filters*8, (3, 3), strides=(2, 2), padding='same') (c7)\n",
    "    u8 = concatenate([u8, c2])\n",
    "    c8 = conv2d_block(u8, n_filters=n_filters*8, kernel_size=3)\n",
    "\n",
    "    u9 = Conv2DTranspose(n_filters*4, (3, 3), strides=(2, 2), padding='same') (c8)\n",
    "    u9 = concatenate([u9, c1], axis=3)\n",
    "    c9 = conv2d_block(u9, n_filters=n_filters*4, kernel_size=3)\n",
    "    \n",
    "    outputs = Conv2D(1, (1, 1), activation='sigmoid') (c9)\n",
    "    model = Model(inputs=[input_img], outputs=[outputs])\n",
    "    return model"
   ]
  },
  {
   "cell_type": "markdown",
   "id": "8a2b5a91",
   "metadata": {},
   "source": [
    "### Métrique Dice"
   ]
  },
  {
   "cell_type": "code",
   "execution_count": 211,
   "id": "7f161649",
   "metadata": {},
   "outputs": [],
   "source": [
    "def dice_coefficient(y_true, y_pred):\n",
    "    eps = 1e-6\n",
    "    y_true_f = K.flatten(y_true)\n",
    "    y_pred_f = K.flatten(y_pred)\n",
    "    intersection = K.sum(y_true_f * y_pred_f)\n",
    "    return (2. * intersection) / (K.sum(y_true_f * y_true_f) + K.sum(y_pred_f * y_pred_f) + eps) #eps pour éviter la division par 0 "
   ]
  },
  {
   "cell_type": "markdown",
   "id": "892ab582",
   "metadata": {},
   "source": [
    "### Data Augmentation"
   ]
  },
  {
   "cell_type": "markdown",
   "id": "35f93fdf",
   "metadata": {},
   "source": [
    "Nombre d'images transformée pour une image et une transformation.\n",
    "\n",
    "Exemple : Pour une image *sample.png* et une transformation *rotation*.\n",
    "\n",
    "On fixe aug_proportion=4\n",
    "\n",
    "On obtient : \n",
    "- *sample.png* original\n",
    "- *sample.png* rotation 90 degree\n",
    "- *sample.png* rotation 100 degree\n",
    "- *sample.png* rotation 10 degree\n",
    "- *sample.png* rotation 89 degree"
   ]
  },
  {
   "cell_type": "code",
   "execution_count": 212,
   "id": "3325ea7b",
   "metadata": {},
   "outputs": [],
   "source": [
    "aug_proportion = 1 #how much are we increasing the data set example 4 means each image will have 4 correspondents synthetic images"
   ]
  },
  {
   "cell_type": "code",
   "execution_count": 213,
   "id": "1d86ef24",
   "metadata": {},
   "outputs": [
    {
     "name": "stderr",
     "output_type": "stream",
     "text": [
      "C:\\Users\\User\\AppData\\Roaming\\Python\\Python38\\site-packages\\albumentations\\augmentations\\transforms.py:868: FutureWarning: This class has been deprecated. Please use ImageCompression\n",
      "  warnings.warn(\n",
      "C:\\Users\\User\\AppData\\Roaming\\Python\\Python38\\site-packages\\albumentations\\augmentations\\functional.py:648: UserWarning: Image compression augmentation is most effective with uint8 inputs, float32 is used as input.\n",
      "  warn(\n"
     ]
    }
   ],
   "source": [
    "#random rotate\n",
    "n_aug = int(len(x_train) * aug_proportion)\n",
    "X_aug = np.zeros((n_aug, IMG_HEIGHT, IMG_WIDTH, 3))\n",
    "Y_aug = np.zeros((n_aug, IMG_HEIGHT, IMG_WIDTH, 1), dtype=bool)\n",
    "\n",
    "\n",
    "aug = Compose([RandomRotate90(p=1), JpegCompression (quality_lower=99, quality_upper=100,  p=0.5)]) #transformations applied \n",
    "\n",
    "\n",
    "for i in range(0,int(len(x_train))):\n",
    "        j=aug_proportion*i\n",
    "        for z in range(0,aug_proportion):\n",
    "              step=(z+j)\n",
    "              augmented = aug(image=np.float32(x_train[i]), mask=y_train[i]*1)\n",
    "              X_aug[step] = augmented['image']\n",
    "              Y_aug[step] = augmented['mask']\n",
    "\n",
    "RGB_image_train_aug = np.append(x_train, X_aug, axis=0)\n",
    "Mask_train_aug = np.append(y_train, Y_aug, axis=0)\n",
    "\n",
    "#Blur \n",
    "n_aug = int(len(x_train) * aug_proportion)\n",
    "X_aug = np.zeros((n_aug, IMG_HEIGHT, IMG_WIDTH, 3))\n",
    "Y_aug = np.zeros((n_aug, IMG_HEIGHT, IMG_WIDTH, 1), dtype=bool)\n",
    "\n",
    "\n",
    "aug = Compose([Blur(p=1), JpegCompression (quality_lower=99, quality_upper=100,  p=0.5)]) #transformations applied \n",
    "\n",
    "\n",
    "for i in range(0,int(len(x_train))):\n",
    "        j=aug_proportion*i\n",
    "        for z in range(0,aug_proportion):\n",
    "              step=(z+j)\n",
    "              augmented = aug(image=np.float32(x_train[i]), mask=y_train[i]*1)\n",
    "              X_aug[step] = augmented['image']\n",
    "              Y_aug[step] = augmented['mask']\n",
    "\n",
    "RGB_image_train_aug = np.append(RGB_image_train_aug,X_aug, axis=0)\n",
    "Mask_train_aug = np.append(Mask_train_aug,Y_aug, axis=0)\n",
    "\n",
    "#ElasticTransform \n",
    "n_aug = int(len(x_train) * aug_proportion)\n",
    "X_aug = np.zeros((n_aug, IMG_HEIGHT, IMG_WIDTH, 3))\n",
    "Y_aug = np.zeros((n_aug, IMG_HEIGHT, IMG_WIDTH, 1), dtype=bool)\n",
    "\n",
    "\n",
    "aug = Compose([ElasticTransform(p=1), JpegCompression (quality_lower=99, quality_upper=100,  p=0.5)]) #transformations applied \n",
    "\n",
    "\n",
    "for i in range(0,int(len(x_train))):\n",
    "        j=aug_proportion*i\n",
    "        for z in range(0,aug_proportion):\n",
    "              step=(z+j)\n",
    "              augmented = aug(image=np.float32(x_train[i]), mask=y_train[i]*1)\n",
    "              X_aug[step] = augmented['image']\n",
    "              Y_aug[step] = augmented['mask']\n",
    "\n",
    "RGB_image_train_aug = np.append(RGB_image_train_aug,X_aug, axis=0)\n",
    "Mask_train_aug = np.append(Mask_train_aug,Y_aug, axis=0)"
   ]
  },
  {
   "cell_type": "code",
   "execution_count": 214,
   "id": "7799f509",
   "metadata": {},
   "outputs": [],
   "source": [
    "dico5 = ['Taile x_train (after data augmentation)', 'Taile x_val','Taile y_train (after data augmentation)','Taile y_val']\n",
    "dico6 = [len(RGB_image_train_aug),len(x_val),len(Mask_train_aug),len(y_val)]"
   ]
  },
  {
   "cell_type": "markdown",
   "id": "c506e56c",
   "metadata": {},
   "source": [
    "### Création du modèle"
   ]
  },
  {
   "cell_type": "code",
   "execution_count": 215,
   "id": "c4c2f053",
   "metadata": {},
   "outputs": [],
   "source": [
    "n_filters_user = 3"
   ]
  },
  {
   "cell_type": "code",
   "execution_count": 216,
   "id": "d4ea025d",
   "metadata": {},
   "outputs": [],
   "source": [
    "input_img = Input((256,256, 3), name='img')\n",
    "model = get_unet(input_img, n_filters=n_filters_user, kernel_size=3) #nombre de filtre"
   ]
  },
  {
   "cell_type": "markdown",
   "id": "109e853e",
   "metadata": {},
   "source": [
    "Compilation du modèle"
   ]
  },
  {
   "cell_type": "code",
   "execution_count": 217,
   "id": "56c53b5a",
   "metadata": {},
   "outputs": [],
   "source": [
    "learning_rate_user = 0.0007\n",
    "gamma_user = 0.6"
   ]
  },
  {
   "cell_type": "code",
   "execution_count": 218,
   "id": "2067b696",
   "metadata": {},
   "outputs": [
    {
     "name": "stdout",
     "output_type": "stream",
     "text": [
      "Model: \"model_5\"\n",
      "__________________________________________________________________________________________________\n",
      "Layer (type)                    Output Shape         Param #     Connected to                     \n",
      "==================================================================================================\n",
      "img (InputLayer)                [(None, 256, 256, 3) 0                                            \n",
      "__________________________________________________________________________________________________\n",
      "conv2d_155 (Conv2D)             (None, 256, 256, 12) 336         img[0][0]                        \n",
      "__________________________________________________________________________________________________\n",
      "activation_150 (Activation)     (None, 256, 256, 12) 0           conv2d_155[0][0]                 \n",
      "__________________________________________________________________________________________________\n",
      "conv2d_156 (Conv2D)             (None, 256, 256, 12) 1308        activation_150[0][0]             \n",
      "__________________________________________________________________________________________________\n",
      "activation_151 (Activation)     (None, 256, 256, 12) 0           conv2d_156[0][0]                 \n",
      "__________________________________________________________________________________________________\n",
      "max_pooling2d_35 (MaxPooling2D) (None, 128, 128, 12) 0           activation_151[0][0]             \n",
      "__________________________________________________________________________________________________\n",
      "conv2d_157 (Conv2D)             (None, 128, 128, 24) 2616        max_pooling2d_35[0][0]           \n",
      "__________________________________________________________________________________________________\n",
      "activation_152 (Activation)     (None, 128, 128, 24) 0           conv2d_157[0][0]                 \n",
      "__________________________________________________________________________________________________\n",
      "conv2d_158 (Conv2D)             (None, 128, 128, 24) 5208        activation_152[0][0]             \n",
      "__________________________________________________________________________________________________\n",
      "activation_153 (Activation)     (None, 128, 128, 24) 0           conv2d_158[0][0]                 \n",
      "__________________________________________________________________________________________________\n",
      "max_pooling2d_36 (MaxPooling2D) (None, 64, 64, 24)   0           activation_153[0][0]             \n",
      "__________________________________________________________________________________________________\n",
      "conv2d_159 (Conv2D)             (None, 64, 64, 48)   10416       max_pooling2d_36[0][0]           \n",
      "__________________________________________________________________________________________________\n",
      "activation_154 (Activation)     (None, 64, 64, 48)   0           conv2d_159[0][0]                 \n",
      "__________________________________________________________________________________________________\n",
      "conv2d_160 (Conv2D)             (None, 64, 64, 48)   20784       activation_154[0][0]             \n",
      "__________________________________________________________________________________________________\n",
      "activation_155 (Activation)     (None, 64, 64, 48)   0           conv2d_160[0][0]                 \n",
      "__________________________________________________________________________________________________\n",
      "max_pooling2d_37 (MaxPooling2D) (None, 32, 32, 48)   0           activation_155[0][0]             \n",
      "__________________________________________________________________________________________________\n",
      "conv2d_161 (Conv2D)             (None, 32, 32, 48)   20784       max_pooling2d_37[0][0]           \n",
      "__________________________________________________________________________________________________\n",
      "activation_156 (Activation)     (None, 32, 32, 48)   0           conv2d_161[0][0]                 \n",
      "__________________________________________________________________________________________________\n",
      "conv2d_162 (Conv2D)             (None, 32, 32, 48)   20784       activation_156[0][0]             \n",
      "__________________________________________________________________________________________________\n",
      "activation_157 (Activation)     (None, 32, 32, 48)   0           conv2d_162[0][0]                 \n",
      "__________________________________________________________________________________________________\n",
      "max_pooling2d_38 (MaxPooling2D) (None, 16, 16, 48)   0           activation_157[0][0]             \n",
      "__________________________________________________________________________________________________\n",
      "conv2d_163 (Conv2D)             (None, 16, 16, 48)   20784       max_pooling2d_38[0][0]           \n",
      "__________________________________________________________________________________________________\n",
      "activation_158 (Activation)     (None, 16, 16, 48)   0           conv2d_163[0][0]                 \n",
      "__________________________________________________________________________________________________\n",
      "conv2d_164 (Conv2D)             (None, 16, 16, 48)   20784       activation_158[0][0]             \n",
      "__________________________________________________________________________________________________\n",
      "activation_159 (Activation)     (None, 16, 16, 48)   0           conv2d_164[0][0]                 \n",
      "__________________________________________________________________________________________________\n",
      "max_pooling2d_39 (MaxPooling2D) (None, 8, 8, 48)     0           activation_159[0][0]             \n",
      "__________________________________________________________________________________________________\n",
      "conv2d_165 (Conv2D)             (None, 8, 8, 48)     20784       max_pooling2d_39[0][0]           \n",
      "__________________________________________________________________________________________________\n",
      "activation_160 (Activation)     (None, 8, 8, 48)     0           conv2d_165[0][0]                 \n",
      "__________________________________________________________________________________________________\n",
      "conv2d_166 (Conv2D)             (None, 8, 8, 48)     20784       activation_160[0][0]             \n",
      "__________________________________________________________________________________________________\n",
      "activation_161 (Activation)     (None, 8, 8, 48)     0           conv2d_166[0][0]                 \n",
      "__________________________________________________________________________________________________\n",
      "max_pooling2d_40 (MaxPooling2D) (None, 4, 4, 48)     0           activation_161[0][0]             \n",
      "__________________________________________________________________________________________________\n",
      "conv2d_167 (Conv2D)             (None, 4, 4, 96)     41568       max_pooling2d_40[0][0]           \n",
      "__________________________________________________________________________________________________\n",
      "activation_162 (Activation)     (None, 4, 4, 96)     0           conv2d_167[0][0]                 \n",
      "__________________________________________________________________________________________________\n",
      "conv2d_168 (Conv2D)             (None, 4, 4, 96)     83040       activation_162[0][0]             \n",
      "__________________________________________________________________________________________________\n",
      "activation_163 (Activation)     (None, 4, 4, 96)     0           conv2d_168[0][0]                 \n",
      "__________________________________________________________________________________________________\n",
      "max_pooling2d_41 (MaxPooling2D) (None, 2, 2, 96)     0           activation_163[0][0]             \n",
      "__________________________________________________________________________________________________\n",
      "conv2d_169 (Conv2D)             (None, 2, 2, 192)    166080      max_pooling2d_41[0][0]           \n",
      "__________________________________________________________________________________________________\n",
      "activation_164 (Activation)     (None, 2, 2, 192)    0           conv2d_169[0][0]                 \n",
      "__________________________________________________________________________________________________\n",
      "conv2d_170 (Conv2D)             (None, 2, 2, 192)    331968      activation_164[0][0]             \n",
      "__________________________________________________________________________________________________\n",
      "activation_165 (Activation)     (None, 2, 2, 192)    0           conv2d_170[0][0]                 \n",
      "__________________________________________________________________________________________________\n",
      "conv2d_transpose_35 (Conv2DTran (None, 4, 4, 96)     165984      activation_165[0][0]             \n",
      "__________________________________________________________________________________________________\n",
      "concatenate_35 (Concatenate)    (None, 4, 4, 192)    0           conv2d_transpose_35[0][0]        \n",
      "                                                                 activation_163[0][0]             \n",
      "__________________________________________________________________________________________________\n",
      "conv2d_171 (Conv2D)             (None, 4, 4, 96)     165984      concatenate_35[0][0]             \n",
      "__________________________________________________________________________________________________\n",
      "activation_166 (Activation)     (None, 4, 4, 96)     0           conv2d_171[0][0]                 \n",
      "__________________________________________________________________________________________________\n",
      "conv2d_172 (Conv2D)             (None, 4, 4, 96)     83040       activation_166[0][0]             \n",
      "__________________________________________________________________________________________________\n",
      "activation_167 (Activation)     (None, 4, 4, 96)     0           conv2d_172[0][0]                 \n",
      "__________________________________________________________________________________________________\n",
      "conv2d_transpose_36 (Conv2DTran (None, 8, 8, 48)     41520       activation_167[0][0]             \n",
      "__________________________________________________________________________________________________\n",
      "concatenate_36 (Concatenate)    (None, 8, 8, 96)     0           conv2d_transpose_36[0][0]        \n",
      "                                                                 activation_161[0][0]             \n",
      "__________________________________________________________________________________________________\n",
      "conv2d_173 (Conv2D)             (None, 8, 8, 48)     41520       concatenate_36[0][0]             \n",
      "__________________________________________________________________________________________________\n",
      "activation_168 (Activation)     (None, 8, 8, 48)     0           conv2d_173[0][0]                 \n",
      "__________________________________________________________________________________________________\n",
      "conv2d_174 (Conv2D)             (None, 8, 8, 48)     20784       activation_168[0][0]             \n",
      "__________________________________________________________________________________________________\n",
      "activation_169 (Activation)     (None, 8, 8, 48)     0           conv2d_174[0][0]                 \n",
      "__________________________________________________________________________________________________\n",
      "conv2d_transpose_37 (Conv2DTran (None, 16, 16, 48)   20784       activation_169[0][0]             \n",
      "__________________________________________________________________________________________________\n",
      "concatenate_37 (Concatenate)    (None, 16, 16, 96)   0           conv2d_transpose_37[0][0]        \n",
      "                                                                 activation_159[0][0]             \n",
      "__________________________________________________________________________________________________\n",
      "conv2d_175 (Conv2D)             (None, 16, 16, 48)   41520       concatenate_37[0][0]             \n",
      "__________________________________________________________________________________________________\n",
      "activation_170 (Activation)     (None, 16, 16, 48)   0           conv2d_175[0][0]                 \n",
      "__________________________________________________________________________________________________\n",
      "conv2d_176 (Conv2D)             (None, 16, 16, 48)   20784       activation_170[0][0]             \n",
      "__________________________________________________________________________________________________\n",
      "activation_171 (Activation)     (None, 16, 16, 48)   0           conv2d_176[0][0]                 \n",
      "__________________________________________________________________________________________________\n",
      "conv2d_transpose_38 (Conv2DTran (None, 32, 32, 48)   20784       activation_171[0][0]             \n",
      "__________________________________________________________________________________________________\n",
      "concatenate_38 (Concatenate)    (None, 32, 32, 96)   0           conv2d_transpose_38[0][0]        \n",
      "                                                                 activation_157[0][0]             \n",
      "__________________________________________________________________________________________________\n",
      "conv2d_177 (Conv2D)             (None, 32, 32, 48)   41520       concatenate_38[0][0]             \n",
      "__________________________________________________________________________________________________\n",
      "activation_172 (Activation)     (None, 32, 32, 48)   0           conv2d_177[0][0]                 \n",
      "__________________________________________________________________________________________________\n",
      "conv2d_178 (Conv2D)             (None, 32, 32, 48)   20784       activation_172[0][0]             \n",
      "__________________________________________________________________________________________________\n",
      "activation_173 (Activation)     (None, 32, 32, 48)   0           conv2d_178[0][0]                 \n",
      "__________________________________________________________________________________________________\n",
      "conv2d_transpose_39 (Conv2DTran (None, 64, 64, 48)   20784       activation_173[0][0]             \n",
      "__________________________________________________________________________________________________\n",
      "concatenate_39 (Concatenate)    (None, 64, 64, 96)   0           conv2d_transpose_39[0][0]        \n",
      "                                                                 activation_155[0][0]             \n",
      "__________________________________________________________________________________________________\n",
      "conv2d_179 (Conv2D)             (None, 64, 64, 48)   41520       concatenate_39[0][0]             \n",
      "__________________________________________________________________________________________________\n",
      "activation_174 (Activation)     (None, 64, 64, 48)   0           conv2d_179[0][0]                 \n",
      "__________________________________________________________________________________________________\n",
      "conv2d_180 (Conv2D)             (None, 64, 64, 48)   20784       activation_174[0][0]             \n",
      "__________________________________________________________________________________________________\n",
      "activation_175 (Activation)     (None, 64, 64, 48)   0           conv2d_180[0][0]                 \n",
      "__________________________________________________________________________________________________\n",
      "conv2d_transpose_40 (Conv2DTran (None, 128, 128, 24) 10392       activation_175[0][0]             \n",
      "__________________________________________________________________________________________________\n",
      "concatenate_40 (Concatenate)    (None, 128, 128, 48) 0           conv2d_transpose_40[0][0]        \n",
      "                                                                 activation_153[0][0]             \n",
      "__________________________________________________________________________________________________\n",
      "conv2d_181 (Conv2D)             (None, 128, 128, 24) 10392       concatenate_40[0][0]             \n",
      "__________________________________________________________________________________________________\n",
      "activation_176 (Activation)     (None, 128, 128, 24) 0           conv2d_181[0][0]                 \n",
      "__________________________________________________________________________________________________\n",
      "conv2d_182 (Conv2D)             (None, 128, 128, 24) 5208        activation_176[0][0]             \n",
      "__________________________________________________________________________________________________\n",
      "activation_177 (Activation)     (None, 128, 128, 24) 0           conv2d_182[0][0]                 \n",
      "__________________________________________________________________________________________________\n",
      "conv2d_transpose_41 (Conv2DTran (None, 256, 256, 12) 2604        activation_177[0][0]             \n",
      "__________________________________________________________________________________________________\n",
      "concatenate_41 (Concatenate)    (None, 256, 256, 24) 0           conv2d_transpose_41[0][0]        \n",
      "                                                                 activation_151[0][0]             \n",
      "__________________________________________________________________________________________________\n",
      "conv2d_183 (Conv2D)             (None, 256, 256, 12) 2604        concatenate_41[0][0]             \n",
      "__________________________________________________________________________________________________\n",
      "activation_178 (Activation)     (None, 256, 256, 12) 0           conv2d_183[0][0]                 \n",
      "__________________________________________________________________________________________________\n",
      "conv2d_184 (Conv2D)             (None, 256, 256, 12) 1308        activation_178[0][0]             \n",
      "__________________________________________________________________________________________________\n",
      "activation_179 (Activation)     (None, 256, 256, 12) 0           conv2d_184[0][0]                 \n",
      "__________________________________________________________________________________________________\n",
      "conv2d_185 (Conv2D)             (None, 256, 256, 1)  13          activation_179[0][0]             \n",
      "==================================================================================================\n",
      "Total params: 1,588,645\n",
      "Trainable params: 1,588,645\n",
      "Non-trainable params: 0\n",
      "__________________________________________________________________________________________________\n"
     ]
    }
   ],
   "source": [
    "opt = tf.keras.optimizers.Adam(learning_rate=learning_rate_user)\n",
    "model.compile(optimizer=opt, loss=[BinaryFocalLoss(gamma=gamma_user)], metrics=[dice_coefficient]) #focal loss\n",
    "model.summary()"
   ]
  },
  {
   "cell_type": "markdown",
   "id": "540668e5",
   "metadata": {},
   "source": [
    "### Instruction d'arrêt et sauvegarde du meilleur modèle"
   ]
  },
  {
   "cell_type": "markdown",
   "id": "33a3a139",
   "metadata": {},
   "source": [
    "Insérer le nom du meilleur modèle"
   ]
  },
  {
   "cell_type": "code",
   "execution_count": 219,
   "id": "5b7440cc",
   "metadata": {},
   "outputs": [],
   "source": [
    "name = \"best_model\""
   ]
  },
  {
   "cell_type": "markdown",
   "id": "a462900e",
   "metadata": {},
   "source": [
    "Fabriquer l'instruction d'arrêt et la sauvegarde du modèle"
   ]
  },
  {
   "cell_type": "code",
   "execution_count": 220,
   "id": "8b2d29e9",
   "metadata": {},
   "outputs": [],
   "source": [
    "early_stop = tf.keras.callbacks.EarlyStopping(\n",
    "    monitor='val_loss', patience=5, verbose=1, mode='auto') #Stop training when a monitored metric has stopped improving.\n",
    "\n",
    "checkpoint_filepath = './output/'+name+'.h5'\n",
    "Model_check = tf.keras.callbacks.ModelCheckpoint(\n",
    "    checkpoint_filepath, monitor='val_loss', verbose=1, save_best_only=True,\n",
    "    save_weights_only=False, mode='auto') #Callback to save the Keras model or model weights at some frequency."
   ]
  },
  {
   "cell_type": "markdown",
   "id": "3d24f444",
   "metadata": {},
   "source": [
    "### Modélisation"
   ]
  },
  {
   "cell_type": "markdown",
   "id": "14f3969c",
   "metadata": {},
   "source": [
    "#### Entrainement"
   ]
  },
  {
   "cell_type": "code",
   "execution_count": 221,
   "id": "8598953e",
   "metadata": {},
   "outputs": [],
   "source": [
    "batch_size_user = 2"
   ]
  },
  {
   "cell_type": "code",
   "execution_count": 222,
   "id": "fb6f809f",
   "metadata": {
    "scrolled": true
   },
   "outputs": [
    {
     "name": "stdout",
     "output_type": "stream",
     "text": [
      "Epoch 1/50\n",
      "64/64 [==============================] - 3s 25ms/step - loss: 0.1641 - dice_coefficient: 0.0483 - val_loss: 0.0536 - val_dice_coefficient: 0.0711\n",
      "\n",
      "Epoch 00001: val_loss improved from inf to 0.05364, saving model to ./output\\best_model.h5\n",
      "Epoch 2/50\n",
      "64/64 [==============================] - 1s 20ms/step - loss: 0.0487 - dice_coefficient: 0.0955 - val_loss: 0.0463 - val_dice_coefficient: 0.1317\n",
      "\n",
      "Epoch 00002: val_loss improved from 0.05364 to 0.04629, saving model to ./output\\best_model.h5\n",
      "Epoch 3/50\n",
      "64/64 [==============================] - 1s 20ms/step - loss: 0.0450 - dice_coefficient: 0.1189 - val_loss: 0.0435 - val_dice_coefficient: 0.1606\n",
      "\n",
      "Epoch 00003: val_loss improved from 0.04629 to 0.04353, saving model to ./output\\best_model.h5\n",
      "Epoch 4/50\n",
      "64/64 [==============================] - 1s 20ms/step - loss: 0.0438 - dice_coefficient: 0.1380 - val_loss: 0.0442 - val_dice_coefficient: 0.1817\n",
      "\n",
      "Epoch 00004: val_loss did not improve from 0.04353\n",
      "Epoch 5/50\n",
      "64/64 [==============================] - 1s 20ms/step - loss: 0.0443 - dice_coefficient: 0.1446 - val_loss: 0.0388 - val_dice_coefficient: 0.2114\n",
      "\n",
      "Epoch 00005: val_loss improved from 0.04353 to 0.03881, saving model to ./output\\best_model.h5\n",
      "Epoch 6/50\n",
      "64/64 [==============================] - 1s 20ms/step - loss: 0.0417 - dice_coefficient: 0.1657 - val_loss: 0.0428 - val_dice_coefficient: 0.1997\n",
      "\n",
      "Epoch 00006: val_loss did not improve from 0.03881\n",
      "Epoch 7/50\n",
      "64/64 [==============================] - 1s 20ms/step - loss: 0.0426 - dice_coefficient: 0.1590 - val_loss: 0.0369 - val_dice_coefficient: 0.2209\n",
      "\n",
      "Epoch 00007: val_loss improved from 0.03881 to 0.03694, saving model to ./output\\best_model.h5\n",
      "Epoch 8/50\n",
      "64/64 [==============================] - 1s 20ms/step - loss: 0.0392 - dice_coefficient: 0.1821 - val_loss: 0.0374 - val_dice_coefficient: 0.2450\n",
      "\n",
      "Epoch 00008: val_loss did not improve from 0.03694\n",
      "Epoch 9/50\n",
      "64/64 [==============================] - 1s 20ms/step - loss: 0.0385 - dice_coefficient: 0.1840 - val_loss: 0.0350 - val_dice_coefficient: 0.2440\n",
      "\n",
      "Epoch 00009: val_loss improved from 0.03694 to 0.03501, saving model to ./output\\best_model.h5\n",
      "Epoch 10/50\n",
      "64/64 [==============================] - 1s 20ms/step - loss: 0.0398 - dice_coefficient: 0.1797 - val_loss: 0.0336 - val_dice_coefficient: 0.2584\n",
      "\n",
      "Epoch 00010: val_loss improved from 0.03501 to 0.03361, saving model to ./output\\best_model.h5\n",
      "Epoch 11/50\n",
      "64/64 [==============================] - 1s 20ms/step - loss: 0.0375 - dice_coefficient: 0.1997 - val_loss: 0.0332 - val_dice_coefficient: 0.2609\n",
      "\n",
      "Epoch 00011: val_loss improved from 0.03361 to 0.03316, saving model to ./output\\best_model.h5\n",
      "Epoch 12/50\n",
      "64/64 [==============================] - 1s 20ms/step - loss: 0.0376 - dice_coefficient: 0.1855 - val_loss: 0.0331 - val_dice_coefficient: 0.2634\n",
      "\n",
      "Epoch 00012: val_loss improved from 0.03316 to 0.03315, saving model to ./output\\best_model.h5\n",
      "Epoch 13/50\n",
      "64/64 [==============================] - 1s 20ms/step - loss: 0.0374 - dice_coefficient: 0.1949 - val_loss: 0.0355 - val_dice_coefficient: 0.2019\n",
      "\n",
      "Epoch 00013: val_loss did not improve from 0.03315\n",
      "Epoch 14/50\n",
      "64/64 [==============================] - 1s 20ms/step - loss: 0.0371 - dice_coefficient: 0.1921 - val_loss: 0.0333 - val_dice_coefficient: 0.2741\n",
      "\n",
      "Epoch 00014: val_loss did not improve from 0.03315\n",
      "Epoch 15/50\n",
      "64/64 [==============================] - 1s 20ms/step - loss: 0.0361 - dice_coefficient: 0.2208 - val_loss: 0.0314 - val_dice_coefficient: 0.2760\n",
      "\n",
      "Epoch 00015: val_loss improved from 0.03315 to 0.03140, saving model to ./output\\best_model.h5\n",
      "Epoch 16/50\n",
      "64/64 [==============================] - 1s 20ms/step - loss: 0.0355 - dice_coefficient: 0.2066 - val_loss: 0.0335 - val_dice_coefficient: 0.2476\n",
      "\n",
      "Epoch 00016: val_loss did not improve from 0.03140\n",
      "Epoch 17/50\n",
      "64/64 [==============================] - 1s 20ms/step - loss: 0.0356 - dice_coefficient: 0.2108 - val_loss: 0.0314 - val_dice_coefficient: 0.2810\n",
      "\n",
      "Epoch 00017: val_loss did not improve from 0.03140\n",
      "Epoch 18/50\n",
      "64/64 [==============================] - 1s 20ms/step - loss: 0.0352 - dice_coefficient: 0.2183 - val_loss: 0.0326 - val_dice_coefficient: 0.3098\n",
      "\n",
      "Epoch 00018: val_loss did not improve from 0.03140\n",
      "Epoch 19/50\n",
      "64/64 [==============================] - 1s 20ms/step - loss: 0.0347 - dice_coefficient: 0.2271 - val_loss: 0.0298 - val_dice_coefficient: 0.2918\n",
      "\n",
      "Epoch 00019: val_loss improved from 0.03140 to 0.02978, saving model to ./output\\best_model.h5\n",
      "Epoch 20/50\n",
      "64/64 [==============================] - 1s 20ms/step - loss: 0.0336 - dice_coefficient: 0.2341 - val_loss: 0.0312 - val_dice_coefficient: 0.2817\n",
      "\n",
      "Epoch 00020: val_loss did not improve from 0.02978\n",
      "Epoch 21/50\n",
      "64/64 [==============================] - 1s 20ms/step - loss: 0.0366 - dice_coefficient: 0.2033 - val_loss: 0.0318 - val_dice_coefficient: 0.2601\n",
      "\n",
      "Epoch 00021: val_loss did not improve from 0.02978\n",
      "Epoch 22/50\n",
      "64/64 [==============================] - 1s 20ms/step - loss: 0.0358 - dice_coefficient: 0.2270 - val_loss: 0.0328 - val_dice_coefficient: 0.2747\n",
      "\n",
      "Epoch 00022: val_loss did not improve from 0.02978\n",
      "Epoch 23/50\n",
      "64/64 [==============================] - 1s 20ms/step - loss: 0.0353 - dice_coefficient: 0.2181 - val_loss: 0.0316 - val_dice_coefficient: 0.2846\n",
      "\n",
      "Epoch 00023: val_loss did not improve from 0.02978\n",
      "Epoch 24/50\n",
      "64/64 [==============================] - 1s 20ms/step - loss: 0.0341 - dice_coefficient: 0.2351 - val_loss: 0.0298 - val_dice_coefficient: 0.3114\n",
      "\n",
      "Epoch 00024: val_loss did not improve from 0.02978\n",
      "Epoch 00024: early stopping\n"
     ]
    }
   ],
   "source": [
    "results = model.fit(RGB_image_train_aug,Mask_train_aug, \n",
    "                    validation_data=(x_val,y_val),\n",
    "                    epochs=50, batch_size = batch_size_user,\n",
    "                    callbacks=[early_stop,Model_check])"
   ]
  },
  {
   "cell_type": "markdown",
   "id": "c6e0b7e7",
   "metadata": {},
   "source": [
    "#### Sauvegarde des courbes de validation et d'apprentissage dans le dossier output/train_validation_curve"
   ]
  },
  {
   "cell_type": "code",
   "execution_count": 223,
   "id": "6c678b82",
   "metadata": {},
   "outputs": [
    {
     "data": {
      "image/png": "[encoded data removed]",
      "text/plain": [
       "<Figure size 432x288 with 1 Axes>"
      ]
     },
     "metadata": {
      "needs_background": "light"
     },
     "output_type": "display_data"
    }
   ],
   "source": [
    "plt.plot(results.history['dice_coefficient'])\n",
    "plt.plot(results.history['val_dice_coefficient'])\n",
    "plt.title('Dice metric')\n",
    "plt.ylabel('Dice')\n",
    "plt.xlabel('Epoch')\n",
    "plt.legend(['Train', 'val'], loc='upper left')\n",
    "plt.savefig('./output/train_validation_curve/Dice_metric.png')"
   ]
  },
  {
   "cell_type": "code",
   "execution_count": 224,
   "id": "053adfc7",
   "metadata": {},
   "outputs": [
    {
     "data": {
      "image/png": "[encoded data removed]",
      "text/plain": [
       "<Figure size 432x288 with 1 Axes>"
      ]
     },
     "metadata": {
      "needs_background": "light"
     },
     "output_type": "display_data"
    }
   ],
   "source": [
    "plt.plot(results.history['loss'])\n",
    "plt.plot(results.history['val_loss'])\n",
    "plt.plot( np.argmin(results.history[\"val_loss\"]), np.min(results.history[\"val_loss\"]), marker=\"x\", color=\"r\", label=\"best model\")\n",
    "plt.title('Model loss')\n",
    "plt.ylabel('Loss')\n",
    "plt.xlabel('Epoch')\n",
    "plt.legend(['Train', 'Val','best'], loc='upper left')\n",
    "plt.savefig('./output/train_validation_curve/loss.png')"
   ]
  },
  {
   "cell_type": "code",
   "execution_count": 225,
   "id": "46432f09",
   "metadata": {},
   "outputs": [],
   "source": [
    "dico7 = ['plus petit coefficient loss de validation']\n",
    "dico8 = [np.min(results.history[\"val_loss\"])]"
   ]
  },
  {
   "cell_type": "markdown",
   "id": "58346689",
   "metadata": {},
   "source": [
    "#### Test"
   ]
  },
  {
   "cell_type": "markdown",
   "id": "940607ae",
   "metadata": {},
   "source": [
    "On récupère le meilleur modèle"
   ]
  },
  {
   "cell_type": "code",
   "execution_count": 226,
   "id": "032331f4",
   "metadata": {},
   "outputs": [],
   "source": [
    "model_New = tf.keras.models.load_model('./output/'+name+'.h5',custom_objects={'dice_coefficient': dice_coefficient})\n",
    "model_New.compile(optimizer=opt, loss=[BinaryFocalLoss(gamma=gamma_user)], metrics=[dice_coefficient]) #focal loss"
   ]
  },
  {
   "cell_type": "markdown",
   "id": "ac89a66d",
   "metadata": {},
   "source": [
    "On test le modèle"
   ]
  },
  {
   "cell_type": "code",
   "execution_count": 227,
   "id": "9d3f67a3",
   "metadata": {},
   "outputs": [
    {
     "name": "stdout",
     "output_type": "stream",
     "text": [
      "1/1 [==============================] - 1s 637ms/step - loss: 0.0347 - dice_coefficient: 0.3623\n"
     ]
    }
   ],
   "source": [
    "eval_test=model_New.evaluate(X_test,Y_test)"
   ]
  },
  {
   "cell_type": "code",
   "execution_count": 228,
   "id": "f5432c52",
   "metadata": {},
   "outputs": [],
   "source": [
    "dico9 = ['Test loss','Test dice']\n",
    "dico10 = [eval_test[0],eval_test[1]]"
   ]
  },
  {
   "cell_type": "markdown",
   "id": "7d07e706",
   "metadata": {},
   "source": [
    "### Optimisation du seuil de segmentation"
   ]
  },
  {
   "cell_type": "markdown",
   "id": "62629d2d",
   "metadata": {},
   "source": [
    "Prédiction des masques par le modèle"
   ]
  },
  {
   "cell_type": "code",
   "execution_count": 229,
   "id": "5aab4b75",
   "metadata": {},
   "outputs": [
    {
     "name": "stdout",
     "output_type": "stream",
     "text": [
      "1/1 - 0s\n"
     ]
    }
   ],
   "source": [
    "Mask_valid_pred_int= model_New.predict(x_val, verbose=2) #predict the masks, the output is a probability map"
   ]
  },
  {
   "cell_type": "markdown",
   "id": "8590cbc5",
   "metadata": {},
   "source": [
    "Optimisation du seuil de segmentation"
   ]
  },
  {
   "cell_type": "code",
   "execution_count": 230,
   "id": "fdb3bbfa",
   "metadata": {},
   "outputs": [
    {
     "name": "stderr",
     "output_type": "stream",
     "text": [
      "100%|████████████████████████████████████████████████████████████████████████████████████| 9/9 [00:00<00:00, 13.47it/s]\n"
     ]
    }
   ],
   "source": [
    "from sklearn.metrics import f1_score\n",
    "\n",
    "# compute F1-score for a set of thresholds from (0.1 to 0.9 with a step of 0.1)\n",
    "prob_thresh = [i*10**-1 for i in range(1,10)]\n",
    "perf=[] # define an empty array to store the computed F1-score for each threshold\n",
    "perf_ALL=[]\n",
    "for r in tqdm(prob_thresh): # all th thrshold values\n",
    "    preds_bin = ((Mask_valid_pred_int> r) + 0 )\n",
    "    preds_bin1=preds_bin[:,:,:,0]\n",
    "    GTALL=y_val[:,:,:,0]\n",
    "    for ii in range(len(GTALL)): # all validation images\n",
    "        predmask=preds_bin1[ii,:,:]\n",
    "        GT=GTALL[ii,:,:]\n",
    "        l = GT.flatten()\n",
    "        p= predmask.flatten()\n",
    "        perf.append(f1_score(l, p)) # re invert the maps: cells: 1, back :0\n",
    "    perf_ALL.append(np.mean(perf))\n",
    "    perf=[]"
   ]
  },
  {
   "cell_type": "markdown",
   "id": "4ec46d9e",
   "metadata": {},
   "source": [
    "Sauvegarde du seuil d'optimisation"
   ]
  },
  {
   "cell_type": "code",
   "execution_count": 231,
   "id": "523e0a73",
   "metadata": {},
   "outputs": [
    {
     "data": {
      "image/png": "[encoded data removed]",
      "text/plain": [
       "<Figure size 720x720 with 1 Axes>"
      ]
     },
     "metadata": {
      "needs_background": "light"
     },
     "output_type": "display_data"
    }
   ],
   "source": [
    "# Plot F1-score function of threshold values and print the best threshold that gives the highest F1-score.\n",
    "max_f1 = max(perf_ALL)  # Find the maximum y value\n",
    "op_thr = prob_thresh[np.array(perf_ALL).argmax()]  # Find the x value corresponding to the maximum y value\n",
    "\n",
    "plt.figure(figsize=(10,10))\n",
    "plt.plot(prob_thresh, perf_ALL,'ro-')\n",
    "plt.ylim(top=1) \n",
    "plt.xticks(prob_thresh)\n",
    "plt.tick_params(axis='x', labelsize=12)\n",
    "plt.tick_params(axis='y', labelsize=12)\n",
    "plt.yticks([0, 0.1, 0.2, 0.3, 0.4, 0.5, 0.6, 0.7, 0.8, 0.9, 1])\n",
    "plt.xlabel('predicted probability map threshold',fontsize=12)\n",
    "plt.ylabel('F1-score', fontsize=12)\n",
    "plt.title(\"Optimizing threshold for predicted probability maps\",fontsize=14)\n",
    "figtext_args = (0.5, 0,\n",
    "                \"Best threshold is: \"+str(op_thr)+', for F1-score='+str(np.round(max_f1,5)))\n",
    "  \n",
    "figtext_kwargs = dict(horizontalalignment =\"center\", \n",
    "                      fontsize = 14, wrap = True)\n",
    "plt.figtext(*figtext_args, **figtext_kwargs)\n",
    "None;\n",
    "plt.savefig('./output/threshold_optimizing/threshold_optimizing_plot.png')"
   ]
  },
  {
   "cell_type": "code",
   "execution_count": 232,
   "id": "e067f4b2",
   "metadata": {},
   "outputs": [],
   "source": [
    "dico11 = ['seuil optimal']\n",
    "dico12 = [op_thr]"
   ]
  },
  {
   "cell_type": "markdown",
   "id": "6d16c4b2",
   "metadata": {},
   "source": [
    "Application du seuil optimisé sur les images prédites par le modèle"
   ]
  },
  {
   "cell_type": "code",
   "execution_count": 233,
   "id": "29b97520",
   "metadata": {},
   "outputs": [
    {
     "name": "stdout",
     "output_type": "stream",
     "text": [
      "1/1 [==============================] - 0s 18ms/step\n"
     ]
    }
   ],
   "source": [
    "preds_test = model_New.predict(X_test, verbose=1)\n",
    "# we apply a threshold on predicted mask (probability mask) to convert it to a binary mask.\n",
    "preds_test_opt = (preds_test >op_thr).astype(np.uint8)"
   ]
  },
  {
   "cell_type": "markdown",
   "id": "6c10aa10",
   "metadata": {},
   "source": [
    "Sauvegarde des images et masques"
   ]
  },
  {
   "cell_type": "code",
   "execution_count": 234,
   "id": "178c5426",
   "metadata": {},
   "outputs": [
    {
     "data": {
      "image/png": "[encoded data removed]",
      "text/plain": [
       "<Figure size 432x288 with 1 Axes>"
      ]
     },
     "metadata": {
      "needs_background": "light"
     },
     "output_type": "display_data"
    }
   ],
   "source": [
    "for ix,name in zip(range(0, len(X_test)),X_test_):\n",
    "  plt.imshow(cv2.cvtColor(X_test[ix,:,:,0], cv2.COLOR_BGR2RGB))\n",
    "  plt.title(\"Original\")\n",
    "  plt.savefig('./output/prediction/'+name+'_original.png')\n",
    "  plt.imshow(np.squeeze(Y_test[ix, :, :, 0]), cmap='gray')\n",
    "  plt.title(\"Ground truth\")\n",
    "  plt.savefig('./output/prediction/'+name+'_output.png')\n",
    "  plt.imshow(np.squeeze(preds_test_opt[ix, :, :, 0]),cmap='gray')\n",
    "  plt.title(\"Segmentation\")\n",
    "  plt.savefig('./output/prediction/'+name+'_output_prediction.png')"
   ]
  },
  {
   "cell_type": "markdown",
   "id": "8dea1039",
   "metadata": {},
   "source": [
    "#### Performance"
   ]
  },
  {
   "cell_type": "code",
   "execution_count": 235,
   "id": "a438e888",
   "metadata": {},
   "outputs": [],
   "source": [
    "PIXEL_TEST = []\n",
    "PIXEL_PRED = []\n",
    "for ix in range(len(X_test_)):\n",
    "  a = Y_test[ix, :, :, 0]\n",
    "  b = preds_test_opt[ix, :, :, 0]\n",
    "  for i in range(256):\n",
    "    for j in range(256):\n",
    "      PIXEL_TEST.append(int(a[i][j]))\n",
    "      PIXEL_PRED.append(int(b[i][j]))\n",
    "  \n",
    "Y_t = K.constant(PIXEL_TEST)\n",
    "pred_t = K.constant(PIXEL_PRED)\n",
    "dice = K.get_value(dice_coefficient(Y_t,pred_t))\n",
    "m = tf.keras.metrics.MeanIoU(num_classes=2)\n",
    "m.update_state(Y_t,pred_t)\n",
    "jaccard = m.result().numpy()"
   ]
  },
  {
   "cell_type": "code",
   "execution_count": 236,
   "id": "8d1aa39d",
   "metadata": {},
   "outputs": [],
   "source": [
    "dico13 = ['Dice','Jaccard']\n",
    "dico14 = [dice,jaccard]"
   ]
  },
  {
   "cell_type": "markdown",
   "id": "4f02ee8a",
   "metadata": {},
   "source": [
    "#### ROC Curve"
   ]
  },
  {
   "cell_type": "code",
   "execution_count": 237,
   "id": "a8d5a0cd",
   "metadata": {},
   "outputs": [],
   "source": [
    "def plot_roc_curve(fper, tper,PIXEL_TEST, PIXEL_prob):\n",
    "    from sklearn.metrics import roc_curve,roc_auc_score\n",
    "    \n",
    "    auc_score=roc_auc_score(PIXEL_TEST, PIXEL_prob)\n",
    "    plt.plot(fper, tper, color='red', label='ROC')\n",
    "    plt.plot([0, 1], [0, 1], color='green', linestyle='--')\n",
    "    plt.xlabel('Taux de faux positif')\n",
    "    plt.ylabel('Taux de vrai positif')\n",
    "    plt.title('Receiver Operating Characteristic Curve')\n",
    "    figtext_args = (0.2, 0.01,\n",
    "                \"*AUC score: \"+str(np.round(auc_score,5)))\n",
    "  \n",
    "    figtext_kwargs = dict(horizontalalignment =\"center\", \n",
    "                          fontsize = 11, wrap = True)\n",
    "    plt.figtext(*figtext_args, **figtext_kwargs)\n",
    "    plt.legend()\n",
    "    plt.savefig('./output/performance/ROC_Curve.png')"
   ]
  },
  {
   "cell_type": "code",
   "execution_count": 238,
   "id": "4ef1824c",
   "metadata": {},
   "outputs": [
    {
     "data": {
      "image/png": "[encoded data removed]",
      "text/plain": [
       "<Figure size 432x288 with 1 Axes>"
      ]
     },
     "metadata": {
      "needs_background": "light"
     },
     "output_type": "display_data"
    }
   ],
   "source": [
    "PIXEL_prob = []\n",
    "for ix in range(len(preds_test)):\n",
    "  tab_a = preds_test[ix]\n",
    "  for i in range(256):\n",
    "    for j in range(256):\n",
    "\n",
    "      PIXEL_prob.append(tab_a[i][j])\n",
    "\n",
    "from sklearn.metrics import roc_curve,roc_auc_score\n",
    "\n",
    "fper, tper, thresholds = roc_curve(PIXEL_TEST, PIXEL_prob)\n",
    "plot_roc_curve(fper, tper,PIXEL_TEST, PIXEL_prob)\n",
    "auc_score=roc_auc_score(PIXEL_TEST, PIXEL_prob)\n",
    "dico15 = ['AUC score']\n",
    "dico16 = [auc_score]"
   ]
  },
  {
   "cell_type": "markdown",
   "id": "5de49496",
   "metadata": {},
   "source": [
    "#### Image de confusion"
   ]
  },
  {
   "cell_type": "code",
   "execution_count": 239,
   "id": "3454d582",
   "metadata": {},
   "outputs": [],
   "source": [
    "for ix,name in zip(range(10),X_test_):\n",
    "  #processing\n",
    "  GT = np.squeeze(Y_test[ix, :, :, 0])\n",
    "  predict = np.squeeze(preds_test_opt[ix, :, :, 0])\n",
    "\n",
    "  GT_new = np.zeros([len(GT),len(GT)],dtype=\"uint8\")\n",
    "  for i in range(len(GT)):\n",
    "    for j in range(len(GT)):\n",
    "      if GT[i][j]: #true\n",
    "        GT_new[i][j] = 1\n",
    "      else:\n",
    "        GT_new[i][j] = 0\n",
    "    \n",
    "  IMAGE_OUTPUT = np.zeros((len(GT),len(GT),3),dtype=\"uint8\")\n",
    "  for i in range(len(predict)):\n",
    "    for j in range(len(predict)):\n",
    "      if predict[i][j]==1 and GT_new[i][j]==1: #TP WHITE\n",
    "        IMAGE_OUTPUT[i,j,0]=255 #r\n",
    "        IMAGE_OUTPUT[i,j,1]=255 #g\n",
    "        IMAGE_OUTPUT[i,j,2]=255 #b\n",
    "      if predict[i][j]==1 and GT_new[i][j]==0: #FP RED\n",
    "        IMAGE_OUTPUT[i,j,0]=255 #r\n",
    "        IMAGE_OUTPUT[i,j,1]=0 #g\n",
    "        IMAGE_OUTPUT[i,j,2]=0 #b\n",
    "      if predict[i][j]==0 and GT_new[i][j]==1: #FN GREEN\n",
    "        IMAGE_OUTPUT[i,j,0]=0 #r\n",
    "        IMAGE_OUTPUT[i,j,1]=255 #g\n",
    "        IMAGE_OUTPUT[i,j,2]=0 #b\n",
    "      if predict[i][j]==0 and GT_new[i][j]==0: #TN BLACK\n",
    "        IMAGE_OUTPUT[i,j,0]=0 #r\n",
    "        IMAGE_OUTPUT[i,j,1]=0 #g\n",
    "        IMAGE_OUTPUT[i,j,2]=0 #b\n",
    "  new_output = resize(IMAGE_OUTPUT, (700, 700), mode='constant', preserve_range=True)\n",
    "  cv2.imwrite('./output/prediction/'+name+'_confusion.png',new_output)"
   ]
  },
  {
   "cell_type": "markdown",
   "id": "95d4c9d2",
   "metadata": {},
   "source": [
    "#### Sauvegarde du tableau"
   ]
  },
  {
   "cell_type": "code",
   "execution_count": 240,
   "id": "720917d9",
   "metadata": {},
   "outputs": [],
   "source": [
    "import pandas as pd\n",
    "dico_col1 = dico1+dico3+dico5+dico7+dico9+dico11+dico13+dico15\n",
    "dico_col2 = dico2+dico4+dico6+dico8+dico10+dico12+dico14+dico16\n",
    "output_table = pd.DataFrame({'col 1' : dico_col1, 'col 2' : dico_col2})\n",
    "output_table.to_csv('./output/table.csv')"
   ]
  },
  {
   "cell_type": "code",
   "execution_count": null,
   "id": "982383b8",
   "metadata": {},
   "outputs": [],
   "source": []
  }
 ],
 "metadata": {
  "kernelspec": {
   "display_name": "Python 3",
   "language": "python",
   "name": "python3"
  },
  "language_info": {
   "codemirror_mode": {
    "name": "ipython",
    "version": 3
   },
   "file_extension": ".py",
   "mimetype": "text/x-python",
   "name": "python",
   "nbconvert_exporter": "python",
   "pygments_lexer": "ipython3",
   "version": "3.8.8"
  }
 },
 "nbformat": 4,
 "nbformat_minor": 5
}
